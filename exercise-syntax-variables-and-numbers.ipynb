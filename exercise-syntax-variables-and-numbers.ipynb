{
 "cells": [
  {
   "cell_type": "markdown",
   "id": "469fd859",
   "metadata": {
    "papermill": {
     "duration": 0.024526,
     "end_time": "2021-08-05T07:05:44.023894",
     "exception": false,
     "start_time": "2021-08-05T07:05:43.999368",
     "status": "completed"
    },
    "tags": []
   },
   "source": [
    "**This notebook is an exercise in the [Python](https://www.kaggle.com/learn/python) course.  You can reference the tutorial at [this link](https://www.kaggle.com/colinmorris/hello-python).**\n",
    "\n",
    "---\n"
   ]
  },
  {
   "cell_type": "markdown",
   "id": "67ac9a09",
   "metadata": {
    "papermill": {
     "duration": 0.020005,
     "end_time": "2021-08-05T07:05:44.064353",
     "exception": false,
     "start_time": "2021-08-05T07:05:44.044348",
     "status": "completed"
    },
    "tags": []
   },
   "source": [
    "Welcome to your first set of Python coding problems.  If this is your first time using Kaggle Notebooks, welcome! \n",
    "\n",
    "Notebooks are composed of blocks (called \"cells\") of text and code. Each of these is editable, though you'll mainly be editing the code cells to answer some questions.\n",
    "\n",
    "To get started, try running the code cell below (by pressing the ► button, or clicking on the cell and pressing ctrl+enter on your keyboard)."
   ]
  },
  {
   "cell_type": "code",
   "execution_count": 1,
   "id": "9feb9ebe",
   "metadata": {
    "execution": {
     "iopub.execute_input": "2021-08-05T07:05:44.110505Z",
     "iopub.status.busy": "2021-08-05T07:05:44.108366Z",
     "iopub.status.idle": "2021-08-05T07:05:44.121216Z",
     "shell.execute_reply": "2021-08-05T07:05:44.120532Z",
     "shell.execute_reply.started": "2021-08-05T07:00:12.211511Z"
    },
    "papermill": {
     "duration": 0.036291,
     "end_time": "2021-08-05T07:05:44.121415",
     "exception": false,
     "start_time": "2021-08-05T07:05:44.085124",
     "status": "completed"
    },
    "tags": []
   },
   "outputs": [
    {
     "name": "stdout",
     "output_type": "stream",
     "text": [
      "You've successfully run some Python code\n",
      "Congratulations!\n"
     ]
    }
   ],
   "source": [
    "print(\"You've successfully run some Python code\")\n",
    "print(\"Congratulations!\")"
   ]
  },
  {
   "cell_type": "markdown",
   "id": "bf781742",
   "metadata": {
    "papermill": {
     "duration": 0.019191,
     "end_time": "2021-08-05T07:05:44.161257",
     "exception": false,
     "start_time": "2021-08-05T07:05:44.142066",
     "status": "completed"
    },
    "tags": []
   },
   "source": [
    "Try adding another line of code in the cell above and re-running it. \n",
    "\n",
    "Now let's get a little fancier:  Add a new code cell by clicking on an existing code cell, hitting the escape key, and then hitting the `a` or `b` key.  The `a` key will add a cell above the current cell, and `b` adds a cell below.\n",
    "\n",
    "Great! Now you know how to use Notebooks.\n",
    "\n",
    "Each hands-on exercise starts by setting up our feedback and code checking mechanism. Run the code cell below to do that. Then you'll be ready to move on to question 0."
   ]
  },
  {
   "cell_type": "code",
   "execution_count": 2,
   "id": "e6b1a8b6",
   "metadata": {
    "_kg_hide-input": true,
    "_kg_hide-output": true,
    "execution": {
     "iopub.execute_input": "2021-08-05T07:05:44.206624Z",
     "iopub.status.busy": "2021-08-05T07:05:44.205704Z",
     "iopub.status.idle": "2021-08-05T07:05:44.345169Z",
     "shell.execute_reply": "2021-08-05T07:05:44.345637Z",
     "shell.execute_reply.started": "2021-08-05T07:01:21.847462Z"
    },
    "papermill": {
     "duration": 0.164292,
     "end_time": "2021-08-05T07:05:44.345819",
     "exception": false,
     "start_time": "2021-08-05T07:05:44.181527",
     "status": "completed"
    },
    "tags": []
   },
   "outputs": [
    {
     "name": "stdout",
     "output_type": "stream",
     "text": [
      "Setup complete! You're ready to start question 0.\n"
     ]
    }
   ],
   "source": [
    "from learntools.core import binder; binder.bind(globals())\n",
    "from learntools.python.ex1 import *\n",
    "print(\"Setup complete! You're ready to start question 0.\")"
   ]
  },
  {
   "cell_type": "markdown",
   "id": "1286ad77",
   "metadata": {
    "papermill": {
     "duration": 0.019441,
     "end_time": "2021-08-05T07:05:44.386181",
     "exception": false,
     "start_time": "2021-08-05T07:05:44.366740",
     "status": "completed"
    },
    "tags": []
   },
   "source": [
    "# 0.\n",
    "\n",
    "*This is a silly question intended as an introduction to the format we use for hands-on exercises throughout all Kaggle courses.*\n",
    "\n",
    "**What is your favorite color? **\n",
    "\n",
    "To complete this question, create a variable called `color` in the cell below with an appropriate value. The function call `q0.check()` (which we've already provided in the cell below) will check your answer."
   ]
  },
  {
   "cell_type": "code",
   "execution_count": 3,
   "id": "0c89c81a",
   "metadata": {
    "execution": {
     "iopub.execute_input": "2021-08-05T07:05:44.432595Z",
     "iopub.status.busy": "2021-08-05T07:05:44.431917Z",
     "iopub.status.idle": "2021-08-05T07:05:44.442089Z",
     "shell.execute_reply": "2021-08-05T07:05:44.441430Z",
     "shell.execute_reply.started": "2021-08-05T07:01:25.557313Z"
    },
    "papermill": {
     "duration": 0.034352,
     "end_time": "2021-08-05T07:05:44.442234",
     "exception": false,
     "start_time": "2021-08-05T07:05:44.407882",
     "status": "completed"
    },
    "tags": []
   },
   "outputs": [
    {
     "data": {
      "application/javascript": [
       "parent.postMessage({\"jupyterEvent\": \"custom.exercise_interaction\", \"data\": {\"outcomeType\": 2, \"failureMessage\": \"\", \"interactionType\": 1, \"questionType\": 2, \"questionId\": \"0_ExerciseFormatTutorial\", \"learnToolsVersion\": \"0.3.4\", \"valueTowardsCompletion\": 0.0, \"exceptionClass\": \"\", \"trace\": \"\"}}, \"*\")"
      ],
      "text/plain": [
       "<IPython.core.display.Javascript object>"
      ]
     },
     "metadata": {},
     "output_type": "display_data"
    },
    {
     "data": {
      "text/markdown": [
       "<span style=\"color:#cc3333\">Incorrect</span>"
      ],
      "text/plain": [
       "Incorrect"
      ]
     },
     "metadata": {},
     "output_type": "display_data"
    }
   ],
   "source": [
    "# create a variable called color with an appropriate value on the line below\n",
    "# (Remember, strings in Python must be enclosed in 'single' or \"double\" quotes)\n",
    "color = \"black\"\n",
    "\n",
    "# Check your answer\n",
    "q0.check()"
   ]
  },
  {
   "cell_type": "markdown",
   "id": "873418e1",
   "metadata": {
    "papermill": {
     "duration": 0.020765,
     "end_time": "2021-08-05T07:05:44.483928",
     "exception": false,
     "start_time": "2021-08-05T07:05:44.463163",
     "status": "completed"
    },
    "tags": []
   },
   "source": [
    "Didn't get the right answer? How do you not even know your own favorite color?!\n",
    "\n",
    "Delete the `#` in the line below to make one of the lines run. You can choose between getting a hint or the full answer by choosing which line to remove the `#` from. \n",
    "\n",
    "Removing the `#` is called uncommenting, because it changes that line from a \"comment\" which Python doesn't run to code, which Python does run."
   ]
  },
  {
   "cell_type": "code",
   "execution_count": 4,
   "id": "3de657c7",
   "metadata": {
    "execution": {
     "iopub.execute_input": "2021-08-05T07:05:44.531711Z",
     "iopub.status.busy": "2021-08-05T07:05:44.531034Z",
     "iopub.status.idle": "2021-08-05T07:05:44.540730Z",
     "shell.execute_reply": "2021-08-05T07:05:44.541258Z",
     "shell.execute_reply.started": "2021-08-05T07:01:51.476374Z"
    },
    "papermill": {
     "duration": 0.034824,
     "end_time": "2021-08-05T07:05:44.541454",
     "exception": false,
     "start_time": "2021-08-05T07:05:44.506630",
     "status": "completed"
    },
    "tags": []
   },
   "outputs": [
    {
     "data": {
      "application/javascript": [
       "parent.postMessage({\"jupyterEvent\": \"custom.exercise_interaction\", \"data\": {\"interactionType\": 2, \"questionType\": 2, \"questionId\": \"0_ExerciseFormatTutorial\", \"learnToolsVersion\": \"0.3.4\", \"valueTowardsCompletion\": 0.0, \"failureMessage\": \"\", \"exceptionClass\": \"\", \"trace\": \"\", \"outcomeType\": 4}}, \"*\")"
      ],
      "text/plain": [
       "<IPython.core.display.Javascript object>"
      ]
     },
     "metadata": {},
     "output_type": "display_data"
    },
    {
     "data": {
      "text/markdown": [
       "<span style=\"color:#3366cc\">Hint:</span> Your favorite color rhymes with *glue*."
      ],
      "text/plain": [
       "Hint: Your favorite color rhymes with *glue*."
      ]
     },
     "metadata": {},
     "output_type": "display_data"
    },
    {
     "data": {
      "application/javascript": [
       "parent.postMessage({\"jupyterEvent\": \"custom.exercise_interaction\", \"data\": {\"interactionType\": 3, \"questionType\": 2, \"questionId\": \"0_ExerciseFormatTutorial\", \"learnToolsVersion\": \"0.3.4\", \"valueTowardsCompletion\": 0.0, \"failureMessage\": \"\", \"exceptionClass\": \"\", \"trace\": \"\", \"outcomeType\": 4}}, \"*\")"
      ],
      "text/plain": [
       "<IPython.core.display.Javascript object>"
      ]
     },
     "metadata": {},
     "output_type": "display_data"
    },
    {
     "data": {
      "text/markdown": [
       "<span style=\"color:#33cc99\">Solution:</span> \n",
       "```python\n",
       "color = \"blue\"\n",
       "```"
      ],
      "text/plain": [
       "Solution: \n",
       "```python\n",
       "color = \"blue\"\n",
       "```"
      ]
     },
     "metadata": {},
     "output_type": "display_data"
    }
   ],
   "source": [
    "q0.hint()\n",
    "q0.solution()"
   ]
  },
  {
   "cell_type": "markdown",
   "id": "9d089523",
   "metadata": {
    "papermill": {
     "duration": 0.023148,
     "end_time": "2021-08-05T07:05:44.589360",
     "exception": false,
     "start_time": "2021-08-05T07:05:44.566212",
     "status": "completed"
    },
    "tags": []
   },
   "source": [
    "The upcoming questions work the same way. The only thing that will change are the question numbers. For the next question, you'll call `q1.check()`, `q1.hint()`, `q1.solution()`, for question 2, you'll call `q2.check()`, and so on."
   ]
  },
  {
   "cell_type": "markdown",
   "id": "724984a8",
   "metadata": {
    "papermill": {
     "duration": 0.022206,
     "end_time": "2021-08-05T07:05:44.634241",
     "exception": false,
     "start_time": "2021-08-05T07:05:44.612035",
     "status": "completed"
    },
    "tags": []
   },
   "source": [
    "<hr/>\n",
    "\n",
    "# 1.\n",
    "\n",
    "Complete the code below. In case it's helpful, here is the table of available arithmetic operations:\n",
    "\n",
    "\n",
    "\n",
    "| Operator     | Name           | Description                                            |\n",
    "|--------------|----------------|--------------------------------------------------------|\n",
    "| ``a + b``    | Addition       | Sum of ``a`` and ``b``                                 |\n",
    "| ``a - b``    | Subtraction    | Difference of ``a`` and ``b``                          |\n",
    "| ``a * b``    | Multiplication | Product of ``a`` and ``b``                             |\n",
    "| ``a / b``    | True division  | Quotient of ``a`` and ``b``                            |\n",
    "| ``a // b``   | Floor division | Quotient of ``a`` and ``b``, removing fractional parts |\n",
    "| ``a % b``    | Modulus        | Integer remainder after division of ``a`` by ``b``     |\n",
    "| ``a ** b``   | Exponentiation | ``a`` raised to the power of ``b``                     |\n",
    "| ``-a``       | Negation       | The negative of ``a``                                  |\n",
    "\n",
    "<span style=\"display:none\"></span>\n"
   ]
  },
  {
   "cell_type": "code",
   "execution_count": 5,
   "id": "002373af",
   "metadata": {
    "execution": {
     "iopub.execute_input": "2021-08-05T07:05:44.685097Z",
     "iopub.status.busy": "2021-08-05T07:05:44.684282Z",
     "iopub.status.idle": "2021-08-05T07:05:44.691873Z",
     "shell.execute_reply": "2021-08-05T07:05:44.692422Z",
     "shell.execute_reply.started": "2021-08-05T07:02:51.047814Z"
    },
    "papermill": {
     "duration": 0.034723,
     "end_time": "2021-08-05T07:05:44.692611",
     "exception": false,
     "start_time": "2021-08-05T07:05:44.657888",
     "status": "completed"
    },
    "tags": []
   },
   "outputs": [
    {
     "data": {
      "application/javascript": [
       "parent.postMessage({\"jupyterEvent\": \"custom.exercise_interaction\", \"data\": {\"outcomeType\": 1, \"valueTowardsCompletion\": 0.25, \"interactionType\": 1, \"questionType\": 1, \"questionId\": \"1_CircleArea\", \"learnToolsVersion\": \"0.3.4\", \"failureMessage\": \"\", \"exceptionClass\": \"\", \"trace\": \"\"}}, \"*\")"
      ],
      "text/plain": [
       "<IPython.core.display.Javascript object>"
      ]
     },
     "metadata": {},
     "output_type": "display_data"
    },
    {
     "data": {
      "text/markdown": [
       "<span style=\"color:#33cc33\">Correct</span>"
      ],
      "text/plain": [
       "Correct"
      ]
     },
     "metadata": {},
     "output_type": "display_data"
    }
   ],
   "source": [
    "pi = 3.14159 # approximate\n",
    "diameter = 3\n",
    "\n",
    "# Create a variable called 'radius' equal to half the diameter\n",
    "radius = diameter / 2\n",
    "# Create a variable called 'area', using the formula for the area of a circle: pi times the radius squared\n",
    "area = pi * radius ** 2\n",
    "\n",
    "# Check your answer\n",
    "q1.check()"
   ]
  },
  {
   "cell_type": "code",
   "execution_count": 6,
   "id": "3a4a24ef",
   "metadata": {
    "execution": {
     "iopub.execute_input": "2021-08-05T07:05:44.746701Z",
     "iopub.status.busy": "2021-08-05T07:05:44.746009Z",
     "iopub.status.idle": "2021-08-05T07:05:44.750008Z",
     "shell.execute_reply": "2021-08-05T07:05:44.750544Z"
    },
    "papermill": {
     "duration": 0.033613,
     "end_time": "2021-08-05T07:05:44.750734",
     "exception": false,
     "start_time": "2021-08-05T07:05:44.717121",
     "status": "completed"
    },
    "tags": []
   },
   "outputs": [],
   "source": [
    "# Uncomment and run the lines below if you need help.\n",
    "#q1.hint()\n",
    "#q1.solution()"
   ]
  },
  {
   "cell_type": "markdown",
   "id": "fd555441",
   "metadata": {
    "papermill": {
     "duration": 0.023428,
     "end_time": "2021-08-05T07:05:44.798191",
     "exception": false,
     "start_time": "2021-08-05T07:05:44.774763",
     "status": "completed"
    },
    "tags": []
   },
   "source": [
    "<hr/>\n",
    "\n",
    "# 2.\n",
    "\n",
    "Add code to the following cell to swap variables `a` and `b` (so that `a` refers to the object previously referred to by `b` and vice versa)."
   ]
  },
  {
   "cell_type": "code",
   "execution_count": 7,
   "id": "072a36bf",
   "metadata": {
    "execution": {
     "iopub.execute_input": "2021-08-05T07:05:44.853928Z",
     "iopub.status.busy": "2021-08-05T07:05:44.852975Z",
     "iopub.status.idle": "2021-08-05T07:05:44.859179Z",
     "shell.execute_reply": "2021-08-05T07:05:44.858502Z"
    },
    "papermill": {
     "duration": 0.037266,
     "end_time": "2021-08-05T07:05:44.859327",
     "exception": false,
     "start_time": "2021-08-05T07:05:44.822061",
     "status": "completed"
    },
    "tags": []
   },
   "outputs": [
    {
     "data": {
      "application/javascript": [
       "parent.postMessage({\"jupyterEvent\": \"custom.exercise_interaction\", \"data\": {\"outcomeType\": 2, \"failureMessage\": \"`a` and `b` still have their original values.\", \"interactionType\": 1, \"questionType\": 2, \"questionId\": \"2_VariableSwap\", \"learnToolsVersion\": \"0.3.4\", \"valueTowardsCompletion\": 0.0, \"exceptionClass\": \"\", \"trace\": \"\"}}, \"*\")"
      ],
      "text/plain": [
       "<IPython.core.display.Javascript object>"
      ]
     },
     "metadata": {},
     "output_type": "display_data"
    },
    {
     "data": {
      "text/markdown": [
       "<span style=\"color:#cc3333\">Incorrect:</span> `a` and `b` still have their original values."
      ],
      "text/plain": [
       "Incorrect: `a` and `b` still have their original values."
      ]
     },
     "metadata": {},
     "output_type": "display_data"
    }
   ],
   "source": [
    "########### Setup code - don't touch this part ######################\n",
    "# If you're curious, these are examples of lists. We'll talk about \n",
    "# them in depth a few lessons from now. For now, just know that they're\n",
    "# yet another type of Python object, like int or float.\n",
    "a = [1, 2, 3]\n",
    "b = [3, 2, 1]\n",
    "q2.store_original_ids()\n",
    "######################################################################\n",
    "\n",
    "# Your code goes here. Swap the values to which a and b refer.\n",
    "# If you get stuck, you can always uncomment one or both of the lines in\n",
    "# the next cell for a hint, or to peek at the solution.\n",
    "\n",
    "######################################################################\n",
    "\n",
    "# Check your answer\n",
    "q2.check()"
   ]
  },
  {
   "cell_type": "code",
   "execution_count": 8,
   "id": "176e09e0",
   "metadata": {
    "execution": {
     "iopub.execute_input": "2021-08-05T07:05:44.915250Z",
     "iopub.status.busy": "2021-08-05T07:05:44.914546Z",
     "iopub.status.idle": "2021-08-05T07:05:44.918167Z",
     "shell.execute_reply": "2021-08-05T07:05:44.918696Z"
    },
    "papermill": {
     "duration": 0.033027,
     "end_time": "2021-08-05T07:05:44.918896",
     "exception": false,
     "start_time": "2021-08-05T07:05:44.885869",
     "status": "completed"
    },
    "tags": []
   },
   "outputs": [],
   "source": [
    "#q2.hint()"
   ]
  },
  {
   "cell_type": "code",
   "execution_count": 9,
   "id": "7c6e9b7f",
   "metadata": {
    "execution": {
     "iopub.execute_input": "2021-08-05T07:05:44.973322Z",
     "iopub.status.busy": "2021-08-05T07:05:44.972414Z",
     "iopub.status.idle": "2021-08-05T07:05:44.976076Z",
     "shell.execute_reply": "2021-08-05T07:05:44.976903Z"
    },
    "papermill": {
     "duration": 0.032875,
     "end_time": "2021-08-05T07:05:44.977099",
     "exception": false,
     "start_time": "2021-08-05T07:05:44.944224",
     "status": "completed"
    },
    "tags": []
   },
   "outputs": [],
   "source": [
    "#q2.solution()"
   ]
  },
  {
   "cell_type": "markdown",
   "id": "808610d2",
   "metadata": {
    "papermill": {
     "duration": 0.027102,
     "end_time": "2021-08-05T07:05:45.030789",
     "exception": false,
     "start_time": "2021-08-05T07:05:45.003687",
     "status": "completed"
    },
    "tags": []
   },
   "source": [
    "<hr/>\n",
    "\n",
    "# 3a.\n",
    "\n",
    "Add parentheses to the following expression so that it evaluates to 1."
   ]
  },
  {
   "cell_type": "code",
   "execution_count": 10,
   "id": "3bd2793e",
   "metadata": {
    "execution": {
     "iopub.execute_input": "2021-08-05T07:05:45.088254Z",
     "iopub.status.busy": "2021-08-05T07:05:45.087435Z",
     "iopub.status.idle": "2021-08-05T07:05:45.093199Z",
     "shell.execute_reply": "2021-08-05T07:05:45.093980Z"
    },
    "papermill": {
     "duration": 0.036679,
     "end_time": "2021-08-05T07:05:45.094225",
     "exception": false,
     "start_time": "2021-08-05T07:05:45.057546",
     "status": "completed"
    },
    "tags": []
   },
   "outputs": [
    {
     "data": {
      "text/plain": [
       "4"
      ]
     },
     "execution_count": 10,
     "metadata": {},
     "output_type": "execute_result"
    }
   ],
   "source": [
    "5 - 3 // 2"
   ]
  },
  {
   "cell_type": "code",
   "execution_count": 11,
   "id": "0b85610a",
   "metadata": {
    "execution": {
     "iopub.execute_input": "2021-08-05T07:05:45.151583Z",
     "iopub.status.busy": "2021-08-05T07:05:45.150887Z",
     "iopub.status.idle": "2021-08-05T07:05:45.154860Z",
     "shell.execute_reply": "2021-08-05T07:05:45.155349Z"
    },
    "papermill": {
     "duration": 0.032889,
     "end_time": "2021-08-05T07:05:45.155588",
     "exception": false,
     "start_time": "2021-08-05T07:05:45.122699",
     "status": "completed"
    },
    "tags": []
   },
   "outputs": [],
   "source": [
    "#q3.a.hint()"
   ]
  },
  {
   "cell_type": "code",
   "execution_count": 12,
   "id": "f6caf2cc",
   "metadata": {
    "execution": {
     "iopub.execute_input": "2021-08-05T07:05:45.214873Z",
     "iopub.status.busy": "2021-08-05T07:05:45.214219Z",
     "iopub.status.idle": "2021-08-05T07:05:45.221249Z",
     "shell.execute_reply": "2021-08-05T07:05:45.221778Z"
    },
    "papermill": {
     "duration": 0.038552,
     "end_time": "2021-08-05T07:05:45.221997",
     "exception": false,
     "start_time": "2021-08-05T07:05:45.183445",
     "status": "completed"
    },
    "tags": []
   },
   "outputs": [
    {
     "data": {
      "application/javascript": [
       "parent.postMessage({\"jupyterEvent\": \"custom.exercise_interaction\", \"data\": {\"interactionType\": 3, \"questionType\": 4, \"questionId\": \"3.1_ArithmeticParensEasy\", \"learnToolsVersion\": \"0.3.4\", \"valueTowardsCompletion\": 0.0, \"failureMessage\": \"\", \"exceptionClass\": \"\", \"trace\": \"\", \"outcomeType\": 4}}, \"*\")"
      ],
      "text/plain": [
       "<IPython.core.display.Javascript object>"
      ]
     },
     "metadata": {},
     "output_type": "display_data"
    },
    {
     "data": {
      "text/markdown": [
       "<span style=\"color:#33cc99\">Solution:</span> \n",
       "```python\n",
       "(5 - 3) // 2\n",
       "```"
      ],
      "text/plain": [
       "Solution: \n",
       "```python\n",
       "(5 - 3) // 2\n",
       "```"
      ]
     },
     "metadata": {},
     "output_type": "display_data"
    }
   ],
   "source": [
    "# Check your answer (Run this code cell to receive credit!)\n",
    "q3.a.solution()"
   ]
  },
  {
   "cell_type": "markdown",
   "id": "e66e1979",
   "metadata": {
    "papermill": {
     "duration": 0.027895,
     "end_time": "2021-08-05T07:05:45.278081",
     "exception": false,
     "start_time": "2021-08-05T07:05:45.250186",
     "status": "completed"
    },
    "tags": []
   },
   "source": [
    "# 3b.  <span title=\"A bit spicy\" style=\"color: darkgreen \">🌶️</span>\n",
    "\n",
    "<small>Questions, like this one, marked a spicy pepper are a bit harder.</small>\n",
    "\n",
    "Add parentheses to the following expression so that it evaluates to 0."
   ]
  },
  {
   "cell_type": "code",
   "execution_count": 13,
   "id": "f81b0e56",
   "metadata": {
    "execution": {
     "iopub.execute_input": "2021-08-05T07:05:45.338081Z",
     "iopub.status.busy": "2021-08-05T07:05:45.336857Z",
     "iopub.status.idle": "2021-08-05T07:05:45.343646Z",
     "shell.execute_reply": "2021-08-05T07:05:45.342949Z"
    },
    "papermill": {
     "duration": 0.037399,
     "end_time": "2021-08-05T07:05:45.343810",
     "exception": false,
     "start_time": "2021-08-05T07:05:45.306411",
     "status": "completed"
    },
    "tags": []
   },
   "outputs": [
    {
     "data": {
      "text/plain": [
       "2"
      ]
     },
     "execution_count": 13,
     "metadata": {},
     "output_type": "execute_result"
    }
   ],
   "source": [
    "8 - 3 * 2 - 1 + 1"
   ]
  },
  {
   "cell_type": "code",
   "execution_count": 14,
   "id": "5701ca1e",
   "metadata": {
    "execution": {
     "iopub.execute_input": "2021-08-05T07:05:45.406184Z",
     "iopub.status.busy": "2021-08-05T07:05:45.405276Z",
     "iopub.status.idle": "2021-08-05T07:05:45.408518Z",
     "shell.execute_reply": "2021-08-05T07:05:45.407974Z"
    },
    "papermill": {
     "duration": 0.035867,
     "end_time": "2021-08-05T07:05:45.408680",
     "exception": false,
     "start_time": "2021-08-05T07:05:45.372813",
     "status": "completed"
    },
    "tags": []
   },
   "outputs": [],
   "source": [
    "#q3.b.hint()"
   ]
  },
  {
   "cell_type": "code",
   "execution_count": 15,
   "id": "2545b8a2",
   "metadata": {
    "execution": {
     "iopub.execute_input": "2021-08-05T07:05:45.474100Z",
     "iopub.status.busy": "2021-08-05T07:05:45.473358Z",
     "iopub.status.idle": "2021-08-05T07:05:45.481711Z",
     "shell.execute_reply": "2021-08-05T07:05:45.481051Z"
    },
    "papermill": {
     "duration": 0.043323,
     "end_time": "2021-08-05T07:05:45.481876",
     "exception": false,
     "start_time": "2021-08-05T07:05:45.438553",
     "status": "completed"
    },
    "tags": []
   },
   "outputs": [
    {
     "data": {
      "application/javascript": [
       "parent.postMessage({\"jupyterEvent\": \"custom.exercise_interaction\", \"data\": {\"interactionType\": 3, \"questionType\": 4, \"questionId\": \"3.2_ArithmeticParensHard\", \"learnToolsVersion\": \"0.3.4\", \"valueTowardsCompletion\": 0.0, \"failureMessage\": \"\", \"exceptionClass\": \"\", \"trace\": \"\", \"outcomeType\": 4}}, \"*\")"
      ],
      "text/plain": [
       "<IPython.core.display.Javascript object>"
      ]
     },
     "metadata": {},
     "output_type": "display_data"
    },
    {
     "data": {
      "text/markdown": [
       "<span style=\"color:#33cc99\">Solution:</span> `(8 - 3) * (2 - (1 + 1))` is one solution. There may be others."
      ],
      "text/plain": [
       "Solution: `(8 - 3) * (2 - (1 + 1))` is one solution. There may be others."
      ]
     },
     "metadata": {},
     "output_type": "display_data"
    }
   ],
   "source": [
    "# Check your answer (Run this code cell to receive credit!)\n",
    "q3.b.solution()"
   ]
  },
  {
   "cell_type": "markdown",
   "id": "8a1be7b5",
   "metadata": {
    "papermill": {
     "duration": 0.029019,
     "end_time": "2021-08-05T07:05:45.540159",
     "exception": false,
     "start_time": "2021-08-05T07:05:45.511140",
     "status": "completed"
    },
    "tags": []
   },
   "source": [
    "<hr/>\n",
    "\n",
    "# 4. \n",
    "Alice, Bob and Carol have agreed to pool their Halloween candy and split it evenly among themselves.\n",
    "For the sake of their friendship, any candies left over will be smashed. For example, if they collectively\n",
    "bring home 91 candies, they'll take 30 each and smash 1.\n",
    "\n",
    "Write an arithmetic expression below to calculate how many candies they must smash for a given haul."
   ]
  },
  {
   "cell_type": "code",
   "execution_count": 16,
   "id": "19f98b31",
   "metadata": {
    "execution": {
     "iopub.execute_input": "2021-08-05T07:05:45.607501Z",
     "iopub.status.busy": "2021-08-05T07:05:45.606758Z",
     "iopub.status.idle": "2021-08-05T07:05:45.611911Z",
     "shell.execute_reply": "2021-08-05T07:05:45.612384Z",
     "shell.execute_reply.started": "2021-08-05T07:04:56.731570Z"
    },
    "papermill": {
     "duration": 0.041007,
     "end_time": "2021-08-05T07:05:45.612570",
     "exception": false,
     "start_time": "2021-08-05T07:05:45.571563",
     "status": "completed"
    },
    "tags": []
   },
   "outputs": [
    {
     "data": {
      "application/javascript": [
       "parent.postMessage({\"jupyterEvent\": \"custom.exercise_interaction\", \"data\": {\"outcomeType\": 1, \"valueTowardsCompletion\": 0.25, \"interactionType\": 1, \"questionType\": 1, \"questionId\": \"4_CandySplitting\", \"learnToolsVersion\": \"0.3.4\", \"failureMessage\": \"\", \"exceptionClass\": \"\", \"trace\": \"\"}}, \"*\")"
      ],
      "text/plain": [
       "<IPython.core.display.Javascript object>"
      ]
     },
     "metadata": {},
     "output_type": "display_data"
    },
    {
     "data": {
      "text/markdown": [
       "<span style=\"color:#33cc33\">Correct</span>"
      ],
      "text/plain": [
       "Correct"
      ]
     },
     "metadata": {},
     "output_type": "display_data"
    }
   ],
   "source": [
    "# Variables representing the number of candies collected by alice, bob, and carol\n",
    "alice_candies = 121\n",
    "bob_candies = 77\n",
    "carol_candies = 109\n",
    "\n",
    "# Your code goes here! Replace the right-hand side of this assignment with an expression\n",
    "# involving alice_candies, bob_candies, and carol_candies\n",
    "to_smash = (alice_candies + bob_candies + carol_candies) % 3\n",
    "\n",
    "# Check your answer\n",
    "q4.check()"
   ]
  },
  {
   "cell_type": "code",
   "execution_count": 17,
   "id": "f77e8bdb",
   "metadata": {
    "execution": {
     "iopub.execute_input": "2021-08-05T07:05:45.682337Z",
     "iopub.status.busy": "2021-08-05T07:05:45.681598Z",
     "iopub.status.idle": "2021-08-05T07:05:45.691644Z",
     "shell.execute_reply": "2021-08-05T07:05:45.691126Z",
     "shell.execute_reply.started": "2021-08-05T07:05:03.912370Z"
    },
    "papermill": {
     "duration": 0.047002,
     "end_time": "2021-08-05T07:05:45.691791",
     "exception": false,
     "start_time": "2021-08-05T07:05:45.644789",
     "status": "completed"
    },
    "tags": []
   },
   "outputs": [
    {
     "data": {
      "application/javascript": [
       "parent.postMessage({\"jupyterEvent\": \"custom.exercise_interaction\", \"data\": {\"interactionType\": 2, \"questionType\": 1, \"questionId\": \"4_CandySplitting\", \"learnToolsVersion\": \"0.3.4\", \"valueTowardsCompletion\": 0.0, \"failureMessage\": \"\", \"exceptionClass\": \"\", \"trace\": \"\", \"outcomeType\": 4}}, \"*\")"
      ],
      "text/plain": [
       "<IPython.core.display.Javascript object>"
      ]
     },
     "metadata": {},
     "output_type": "display_data"
    },
    {
     "data": {
      "text/markdown": [
       "<span style=\"color:#3366cc\">Hint 1:</span> You'll probably want to use the modulo operator, `%`.\n",
       "(For another hint, call `.hint(2)`)"
      ],
      "text/plain": [
       "Hint 1: You'll probably want to use the modulo operator, `%`.\n",
       "(For another hint, call `.hint(2)`)"
      ]
     },
     "metadata": {},
     "output_type": "display_data"
    },
    {
     "data": {
      "application/javascript": [
       "parent.postMessage({\"jupyterEvent\": \"custom.exercise_interaction\", \"data\": {\"interactionType\": 3, \"questionType\": 1, \"questionId\": \"4_CandySplitting\", \"learnToolsVersion\": \"0.3.4\", \"valueTowardsCompletion\": 0.0, \"failureMessage\": \"\", \"exceptionClass\": \"\", \"trace\": \"\", \"outcomeType\": 4}}, \"*\")"
      ],
      "text/plain": [
       "<IPython.core.display.Javascript object>"
      ]
     },
     "metadata": {},
     "output_type": "display_data"
    },
    {
     "data": {
      "text/markdown": [
       "<span style=\"color:#33cc99\">Solution:</span> \n",
       "```python\n",
       "(alice_candies + bob_candies + carol_candies) % 3\n",
       "```"
      ],
      "text/plain": [
       "Solution: \n",
       "```python\n",
       "(alice_candies + bob_candies + carol_candies) % 3\n",
       "```"
      ]
     },
     "metadata": {},
     "output_type": "display_data"
    }
   ],
   "source": [
    "q4.hint()\n",
    "q4.solution()"
   ]
  },
  {
   "cell_type": "markdown",
   "id": "95c46791",
   "metadata": {
    "papermill": {
     "duration": 0.031403,
     "end_time": "2021-08-05T07:05:45.754808",
     "exception": false,
     "start_time": "2021-08-05T07:05:45.723405",
     "status": "completed"
    },
    "tags": []
   },
   "source": [
    "# Keep Going\n",
    "\n",
    "Next up, you'll **[learn to write new functions and understand functions others write](https://www.kaggle.com/colinmorris/functions-and-getting-help)**. This will make you at least 10 times more productive as a Python programmer. "
   ]
  },
  {
   "cell_type": "markdown",
   "id": "f4abaac1",
   "metadata": {
    "papermill": {
     "duration": 0.033646,
     "end_time": "2021-08-05T07:05:45.823737",
     "exception": false,
     "start_time": "2021-08-05T07:05:45.790091",
     "status": "completed"
    },
    "tags": []
   },
   "source": [
    "---\n",
    "\n",
    "\n",
    "\n",
    "\n",
    "*Have questions or comments? Visit the [Learn Discussion forum](https://www.kaggle.com/learn-forum/161283) to chat with other Learners.*"
   ]
  }
 ],
 "metadata": {
  "kernelspec": {
   "display_name": "Python 3",
   "language": "python",
   "name": "python3"
  },
  "language_info": {
   "codemirror_mode": {
    "name": "ipython",
    "version": 3
   },
   "file_extension": ".py",
   "mimetype": "text/x-python",
   "name": "python",
   "nbconvert_exporter": "python",
   "pygments_lexer": "ipython3",
   "version": "3.7.10"
  },
  "papermill": {
   "default_parameters": {},
   "duration": 12.922464,
   "end_time": "2021-08-05T07:05:47.548869",
   "environment_variables": {},
   "exception": null,
   "input_path": "__notebook__.ipynb",
   "output_path": "__notebook__.ipynb",
   "parameters": {},
   "start_time": "2021-08-05T07:05:34.626405",
   "version": "2.3.3"
  }
 },
 "nbformat": 4,
 "nbformat_minor": 5
}
